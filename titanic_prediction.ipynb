{
  "nbformat": 4,
  "nbformat_minor": 0,
  "metadata": {
    "colab": {
      "name": "titanic_predicction.ipynb",
      "provenance": [],
      "collapsed_sections": []
    },
    "kernelspec": {
      "name": "python3",
      "display_name": "Python 3"
    },
    "language_info": {
      "name": "python"
    }
  },
  "cells": [
    {
      "cell_type": "code",
      "metadata": {
        "colab": {
          "base_uri": "https://localhost:8080/"
        },
        "id": "nwQ8W8qmRAit",
        "outputId": "d67323d8-d9f9-4cd1-f60a-2a05ce041bac"
      },
      "source": [
        "\"\"\"\n",
        "Titanic Survival Prediction\n",
        "Author:   Amruth Karun M V\n",
        "Date:     05-Nov-2021\n",
        "\"\"\"\n",
        "\n",
        "from google.colab import drive\n",
        "drive.mount('/content/drive')"
      ],
      "execution_count": null,
      "outputs": [
        {
          "output_type": "stream",
          "name": "stdout",
          "text": [
            "Drive already mounted at /content/drive; to attempt to forcibly remount, call drive.mount(\"/content/drive\", force_remount=True).\n"
          ]
        }
      ]
    },
    {
      "cell_type": "code",
      "metadata": {
        "id": "wjMBnkKpVA2T"
      },
      "source": [
        "### Step 1. Install the required libraries, using pip\n",
        "# numpy, pandas, sklearn, matplotlib"
      ],
      "execution_count": null,
      "outputs": []
    },
    {
      "cell_type": "code",
      "metadata": {
        "id": "3CUHH7R0UgWL"
      },
      "source": [
        "## Step 2. Import the necessary libraries\n",
        "import pandas as pd\n",
        "import numpy as np\n",
        "from sklearn.linear_model import LogisticRegression\n",
        "from sklearn.model_selection import (\n",
        "    train_test_split,  KFold, cross_val_score,\n",
        "    GridSearchCV, RandomizedSearchCV\n",
        ")\n",
        "from sklearn.metrics import (\n",
        "    accuracy_score, roc_curve, roc_auc_score,\n",
        "    precision_recall_fscore_support\n",
        ")\n",
        "import matplotlib.pyplot as plt\n",
        "from scipy.stats import uniform\n",
        "plt.style.use('seaborn')"
      ],
      "execution_count": null,
      "outputs": []
    },
    {
      "cell_type": "code",
      "metadata": {
        "id": "qbkksLOUGref",
        "colab": {
          "base_uri": "https://localhost:8080/",
          "height": 221
        },
        "outputId": "761e32c0-82f5-403f-f1fe-4b0ef8be9b74"
      },
      "source": [
        "## Step 3. Read the dataset into two dataframes - train_pd and test_pd\n",
        "\n",
        "# Drive path for train data\n",
        "dataset_path = \"/content/drive/MyDrive/ML/titanic/\"\n",
        "\n",
        "# Create pandas dataframe from the input csv files\n",
        "train_pd = pd.read_csv(dataset_path +\"train.csv\")\n",
        "test_pd = pd.read_csv(dataset_path +\"test.csv\")\n",
        "print(train_pd.shape)\n",
        "train_pd.head()"
      ],
      "execution_count": null,
      "outputs": [
        {
          "output_type": "stream",
          "name": "stdout",
          "text": [
            "(891, 12)\n"
          ]
        },
        {
          "output_type": "execute_result",
          "data": {
            "text/html": [
              "<div>\n",
              "<style scoped>\n",
              "    .dataframe tbody tr th:only-of-type {\n",
              "        vertical-align: middle;\n",
              "    }\n",
              "\n",
              "    .dataframe tbody tr th {\n",
              "        vertical-align: top;\n",
              "    }\n",
              "\n",
              "    .dataframe thead th {\n",
              "        text-align: right;\n",
              "    }\n",
              "</style>\n",
              "<table border=\"1\" class=\"dataframe\">\n",
              "  <thead>\n",
              "    <tr style=\"text-align: right;\">\n",
              "      <th></th>\n",
              "      <th>PassengerId</th>\n",
              "      <th>Survived</th>\n",
              "      <th>Pclass</th>\n",
              "      <th>Name</th>\n",
              "      <th>Sex</th>\n",
              "      <th>Age</th>\n",
              "      <th>SibSp</th>\n",
              "      <th>Parch</th>\n",
              "      <th>Ticket</th>\n",
              "      <th>Fare</th>\n",
              "      <th>Cabin</th>\n",
              "      <th>Embarked</th>\n",
              "    </tr>\n",
              "  </thead>\n",
              "  <tbody>\n",
              "    <tr>\n",
              "      <th>0</th>\n",
              "      <td>1</td>\n",
              "      <td>0</td>\n",
              "      <td>3</td>\n",
              "      <td>Braund, Mr. Owen Harris</td>\n",
              "      <td>male</td>\n",
              "      <td>22.0</td>\n",
              "      <td>1</td>\n",
              "      <td>0</td>\n",
              "      <td>A/5 21171</td>\n",
              "      <td>7.2500</td>\n",
              "      <td>NaN</td>\n",
              "      <td>S</td>\n",
              "    </tr>\n",
              "    <tr>\n",
              "      <th>1</th>\n",
              "      <td>2</td>\n",
              "      <td>1</td>\n",
              "      <td>1</td>\n",
              "      <td>Cumings, Mrs. John Bradley (Florence Briggs Th...</td>\n",
              "      <td>female</td>\n",
              "      <td>38.0</td>\n",
              "      <td>1</td>\n",
              "      <td>0</td>\n",
              "      <td>PC 17599</td>\n",
              "      <td>71.2833</td>\n",
              "      <td>C85</td>\n",
              "      <td>C</td>\n",
              "    </tr>\n",
              "    <tr>\n",
              "      <th>2</th>\n",
              "      <td>3</td>\n",
              "      <td>1</td>\n",
              "      <td>3</td>\n",
              "      <td>Heikkinen, Miss. Laina</td>\n",
              "      <td>female</td>\n",
              "      <td>26.0</td>\n",
              "      <td>0</td>\n",
              "      <td>0</td>\n",
              "      <td>STON/O2. 3101282</td>\n",
              "      <td>7.9250</td>\n",
              "      <td>NaN</td>\n",
              "      <td>S</td>\n",
              "    </tr>\n",
              "    <tr>\n",
              "      <th>3</th>\n",
              "      <td>4</td>\n",
              "      <td>1</td>\n",
              "      <td>1</td>\n",
              "      <td>Futrelle, Mrs. Jacques Heath (Lily May Peel)</td>\n",
              "      <td>female</td>\n",
              "      <td>35.0</td>\n",
              "      <td>1</td>\n",
              "      <td>0</td>\n",
              "      <td>113803</td>\n",
              "      <td>53.1000</td>\n",
              "      <td>C123</td>\n",
              "      <td>S</td>\n",
              "    </tr>\n",
              "    <tr>\n",
              "      <th>4</th>\n",
              "      <td>5</td>\n",
              "      <td>0</td>\n",
              "      <td>3</td>\n",
              "      <td>Allen, Mr. William Henry</td>\n",
              "      <td>male</td>\n",
              "      <td>35.0</td>\n",
              "      <td>0</td>\n",
              "      <td>0</td>\n",
              "      <td>373450</td>\n",
              "      <td>8.0500</td>\n",
              "      <td>NaN</td>\n",
              "      <td>S</td>\n",
              "    </tr>\n",
              "  </tbody>\n",
              "</table>\n",
              "</div>"
            ],
            "text/plain": [
              "   PassengerId  Survived  Pclass  ...     Fare Cabin  Embarked\n",
              "0            1         0       3  ...   7.2500   NaN         S\n",
              "1            2         1       1  ...  71.2833   C85         C\n",
              "2            3         1       3  ...   7.9250   NaN         S\n",
              "3            4         1       1  ...  53.1000  C123         S\n",
              "4            5         0       3  ...   8.0500   NaN         S\n",
              "\n",
              "[5 rows x 12 columns]"
            ]
          },
          "metadata": {},
          "execution_count": 34
        }
      ]
    },
    {
      "cell_type": "code",
      "metadata": {
        "colab": {
          "base_uri": "https://localhost:8080/",
          "height": 376
        },
        "id": "LbDiIlm1Ha9q",
        "outputId": "b9d2582f-1d74-4222-9d0c-4f8e54387295"
      },
      "source": [
        "# Create a scatter plot with the age of passengers\n",
        "# Survived represented in darker color\n",
        "plt.scatter(x=train_pd[\"PassengerId\"], y=train_pd[\"Age\"], c=train_pd[\"Survived\"], cmap='Accent')\n",
        "plt.title(\"Age of Survived Passengers\")\n",
        "plt.xlabel(\"Passenger ID\")\n",
        "plt.ylabel(\"Age\")\n",
        "plt.show()"
      ],
      "execution_count": null,
      "outputs": [
        {
          "output_type": "display_data",
          "data": {
            "image/png": "[encoded data removed]",
            "text/plain": [
              "<Figure size 576x396 with 1 Axes>"
            ]
          },
          "metadata": {}
        }
      ]
    },
    {
      "cell_type": "markdown",
      "metadata": {
        "id": "2FgWeu2jFFK4"
      },
      "source": [
        "**Data Preprocessing**\n",
        "\n",
        "Before building machine learning models, datasets must be preprocessed. The preprocessing phase transforms raw data into clean data. This phase includes steps to handle missing/null values. Common practices include dropping the rows containing missing values or replacing the null values with the mean.\n",
        "\n",
        "---\n",
        "\n"
      ]
    },
    {
      "cell_type": "code",
      "metadata": {
        "id": "BDC1dYmWXNuT"
      },
      "source": [
        "# Remove attributes that are not features\n",
        "train_pd.drop(columns=['Name','Ticket','PassengerId'], inplace=True)\n",
        "test_pd.drop(columns=['Name','Ticket','PassengerId'], inplace=True)"
      ],
      "execution_count": null,
      "outputs": []
    },
    {
      "cell_type": "code",
      "metadata": {
        "id": "NWwCvdWvXbe0",
        "colab": {
          "base_uri": "https://localhost:8080/",
          "height": 328
        },
        "outputId": "a9783f16-31a2-4f6e-d8e6-c03dd2ea3eb2"
      },
      "source": [
        "## Calculate entries in training data with missing data\n",
        "pd.DataFrame({'No. NaN': train_pd.isna().sum(), '%': train_pd.isna().sum() / len(train_pd)})\n",
        "\n"
      ],
      "execution_count": null,
      "outputs": [
        {
          "output_type": "execute_result",
          "data": {
            "text/html": [
              "<div>\n",
              "<style scoped>\n",
              "    .dataframe tbody tr th:only-of-type {\n",
              "        vertical-align: middle;\n",
              "    }\n",
              "\n",
              "    .dataframe tbody tr th {\n",
              "        vertical-align: top;\n",
              "    }\n",
              "\n",
              "    .dataframe thead th {\n",
              "        text-align: right;\n",
              "    }\n",
              "</style>\n",
              "<table border=\"1\" class=\"dataframe\">\n",
              "  <thead>\n",
              "    <tr style=\"text-align: right;\">\n",
              "      <th></th>\n",
              "      <th>No. NaN</th>\n",
              "      <th>%</th>\n",
              "    </tr>\n",
              "  </thead>\n",
              "  <tbody>\n",
              "    <tr>\n",
              "      <th>Survived</th>\n",
              "      <td>0</td>\n",
              "      <td>0.000000</td>\n",
              "    </tr>\n",
              "    <tr>\n",
              "      <th>Pclass</th>\n",
              "      <td>0</td>\n",
              "      <td>0.000000</td>\n",
              "    </tr>\n",
              "    <tr>\n",
              "      <th>Sex</th>\n",
              "      <td>0</td>\n",
              "      <td>0.000000</td>\n",
              "    </tr>\n",
              "    <tr>\n",
              "      <th>Age</th>\n",
              "      <td>177</td>\n",
              "      <td>0.198653</td>\n",
              "    </tr>\n",
              "    <tr>\n",
              "      <th>SibSp</th>\n",
              "      <td>0</td>\n",
              "      <td>0.000000</td>\n",
              "    </tr>\n",
              "    <tr>\n",
              "      <th>Parch</th>\n",
              "      <td>0</td>\n",
              "      <td>0.000000</td>\n",
              "    </tr>\n",
              "    <tr>\n",
              "      <th>Fare</th>\n",
              "      <td>0</td>\n",
              "      <td>0.000000</td>\n",
              "    </tr>\n",
              "    <tr>\n",
              "      <th>Cabin</th>\n",
              "      <td>687</td>\n",
              "      <td>0.771044</td>\n",
              "    </tr>\n",
              "    <tr>\n",
              "      <th>Embarked</th>\n",
              "      <td>2</td>\n",
              "      <td>0.002245</td>\n",
              "    </tr>\n",
              "  </tbody>\n",
              "</table>\n",
              "</div>"
            ],
            "text/plain": [
              "          No. NaN         %\n",
              "Survived        0  0.000000\n",
              "Pclass          0  0.000000\n",
              "Sex             0  0.000000\n",
              "Age           177  0.198653\n",
              "SibSp           0  0.000000\n",
              "Parch           0  0.000000\n",
              "Fare            0  0.000000\n",
              "Cabin         687  0.771044\n",
              "Embarked        2  0.002245"
            ]
          },
          "metadata": {},
          "execution_count": 37
        }
      ]
    },
    {
      "cell_type": "code",
      "metadata": {
        "id": "_6epaAwkY3Rk",
        "colab": {
          "base_uri": "https://localhost:8080/",
          "height": 297
        },
        "outputId": "4516793b-2929-44b0-fa19-c14128d2c2ad"
      },
      "source": [
        "## Calculate entries in test data with missing data\n",
        "pd.DataFrame({'No. NaN': test_pd.isna().sum(), '%': test_pd.isna().sum() / len(test_pd)})"
      ],
      "execution_count": null,
      "outputs": [
        {
          "output_type": "execute_result",
          "data": {
            "text/html": [
              "<div>\n",
              "<style scoped>\n",
              "    .dataframe tbody tr th:only-of-type {\n",
              "        vertical-align: middle;\n",
              "    }\n",
              "\n",
              "    .dataframe tbody tr th {\n",
              "        vertical-align: top;\n",
              "    }\n",
              "\n",
              "    .dataframe thead th {\n",
              "        text-align: right;\n",
              "    }\n",
              "</style>\n",
              "<table border=\"1\" class=\"dataframe\">\n",
              "  <thead>\n",
              "    <tr style=\"text-align: right;\">\n",
              "      <th></th>\n",
              "      <th>No. NaN</th>\n",
              "      <th>%</th>\n",
              "    </tr>\n",
              "  </thead>\n",
              "  <tbody>\n",
              "    <tr>\n",
              "      <th>Pclass</th>\n",
              "      <td>0</td>\n",
              "      <td>0.000000</td>\n",
              "    </tr>\n",
              "    <tr>\n",
              "      <th>Sex</th>\n",
              "      <td>0</td>\n",
              "      <td>0.000000</td>\n",
              "    </tr>\n",
              "    <tr>\n",
              "      <th>Age</th>\n",
              "      <td>86</td>\n",
              "      <td>0.205742</td>\n",
              "    </tr>\n",
              "    <tr>\n",
              "      <th>SibSp</th>\n",
              "      <td>0</td>\n",
              "      <td>0.000000</td>\n",
              "    </tr>\n",
              "    <tr>\n",
              "      <th>Parch</th>\n",
              "      <td>0</td>\n",
              "      <td>0.000000</td>\n",
              "    </tr>\n",
              "    <tr>\n",
              "      <th>Fare</th>\n",
              "      <td>1</td>\n",
              "      <td>0.002392</td>\n",
              "    </tr>\n",
              "    <tr>\n",
              "      <th>Cabin</th>\n",
              "      <td>327</td>\n",
              "      <td>0.782297</td>\n",
              "    </tr>\n",
              "    <tr>\n",
              "      <th>Embarked</th>\n",
              "      <td>0</td>\n",
              "      <td>0.000000</td>\n",
              "    </tr>\n",
              "  </tbody>\n",
              "</table>\n",
              "</div>"
            ],
            "text/plain": [
              "          No. NaN         %\n",
              "Pclass          0  0.000000\n",
              "Sex             0  0.000000\n",
              "Age            86  0.205742\n",
              "SibSp           0  0.000000\n",
              "Parch           0  0.000000\n",
              "Fare            1  0.002392\n",
              "Cabin         327  0.782297\n",
              "Embarked        0  0.000000"
            ]
          },
          "metadata": {},
          "execution_count": 38
        }
      ]
    },
    {
      "cell_type": "markdown",
      "metadata": {
        "id": "6_yROgsHZPvE"
      },
      "source": [
        "Features with missing data:\n",
        "*   **Cabin (~77%)**: Drop it. Too much data is missing to fill without introducing a significant amount of noise.\n",
        "*   **Age (~20%)**: A significant amount of data is missing, but if it's useful we can try to fill it.\n",
        "*   **Fare (1 data point)**: Since only one value is missing we can fill it with something simple like a median.\n",
        "*   **Embarked (2 data points)**: Only two values missing, but feature is independently correlated with survival. so, it can be dropped\n",
        "\n",
        "\n",
        "\n",
        "\n"
      ]
    },
    {
      "cell_type": "code",
      "metadata": {
        "id": "cAlFxIOSZOK1"
      },
      "source": [
        "#Preprocessing - I - Drop 'Cabin' and 'Embarked' feature\n",
        "train_pd.drop(columns=['Cabin','Embarked'], inplace=True)\n",
        "test_pd.drop(columns=['Cabin','Embarked'], inplace=True)"
      ],
      "execution_count": null,
      "outputs": []
    },
    {
      "cell_type": "code",
      "metadata": {
        "id": "TMpCgRNhaV-c"
      },
      "source": [
        "#Preprocessing - II - Pandas has a interpolate() function that will replace all the missing NaNs to interpolated values.\n",
        "\n",
        "train_pd['Age'] = train_pd['Age'].interpolate()\n",
        "test_pd['Age'] = test_pd['Age'].interpolate()"
      ],
      "execution_count": null,
      "outputs": []
    },
    {
      "cell_type": "code",
      "metadata": {
        "id": "BdhAcTfwdOBm"
      },
      "source": [
        "#Preprocessing - III - Fill missing values with median\n",
        "train_pd['Fare'].fillna(train_pd['Fare'].median(),inplace=True)\n",
        "test_pd['Fare'].fillna(test_pd['Fare'].median(),inplace=True)"
      ],
      "execution_count": null,
      "outputs": []
    },
    {
      "cell_type": "code",
      "metadata": {
        "id": "m-UNeGiHgG5W"
      },
      "source": [
        "## Encoding Pclass and Sex attributes\n",
        "train_dummies = []\n",
        "test_dummies = []\n",
        "\n",
        "cols = ['Pclass', 'Sex']\n",
        "for col in cols:\n",
        "    train_dummies.append(pd.get_dummies(train_pd[col]))\n",
        "    test_dummies.append(pd.get_dummies(test_pd[col]))\n",
        "titanic_train_dummies = pd.concat(train_dummies, axis=1)\n",
        "titanic_test_dummies = pd.concat(test_dummies, axis=1)"
      ],
      "execution_count": null,
      "outputs": []
    },
    {
      "cell_type": "code",
      "metadata": {
        "id": "ZgCfB2o-gteu"
      },
      "source": [
        "train_pd = pd.concat((train_pd,titanic_train_dummies), axis=1)\n",
        "test_pd = pd.concat((test_pd,titanic_test_dummies), axis=1)"
      ],
      "execution_count": null,
      "outputs": []
    },
    {
      "cell_type": "code",
      "metadata": {
        "id": "cW6LYlLFg4Fm"
      },
      "source": [
        "train_pd = train_pd.drop(['Pclass', 'Sex'], axis=1)\n",
        "test_pd = test_pd.drop(['Pclass', 'Sex'], axis=1)"
      ],
      "execution_count": null,
      "outputs": []
    },
    {
      "cell_type": "markdown",
      "metadata": {
        "id": "M6_rFnbHJqG4"
      },
      "source": [
        "**Feature Engineering**\n",
        "\n",
        "Feature Engineering may be applied to generate new features from the existing one. For the Titanic dataset, the features 'SibSp' and 'Patch' can be combined into a single feature, 'FamilySize'"
      ]
    },
    {
      "cell_type": "code",
      "metadata": {
        "id": "cdYNF27yfT3l"
      },
      "source": [
        "train_pd['FamilySize'] = train_pd['SibSp'] + train_pd['Parch'] + 1\n",
        "test_pd['FamilySize'] = test_pd['SibSp'] + test_pd['Parch'] + 1"
      ],
      "execution_count": null,
      "outputs": []
    },
    {
      "cell_type": "code",
      "metadata": {
        "id": "8iZLYefsh0k1"
      },
      "source": [
        "#Drop attributes 'SibSp' and 'Parch'\n",
        "train_pd = train_pd.drop(['SibSp', 'Parch'], axis=1)\n",
        "test_pd = test_pd.drop(['SibSp', 'Parch'], axis=1)"
      ],
      "execution_count": null,
      "outputs": []
    },
    {
      "cell_type": "code",
      "metadata": {
        "id": "kYz5iMRFiEmv",
        "colab": {
          "base_uri": "https://localhost:8080/",
          "height": 204
        },
        "outputId": "e669cb53-a39a-454a-be5c-5ae199607659"
      },
      "source": [
        "#Preprocessed data\n",
        "\n",
        "train_pd.head()"
      ],
      "execution_count": null,
      "outputs": [
        {
          "output_type": "execute_result",
          "data": {
            "text/html": [
              "<div>\n",
              "<style scoped>\n",
              "    .dataframe tbody tr th:only-of-type {\n",
              "        vertical-align: middle;\n",
              "    }\n",
              "\n",
              "    .dataframe tbody tr th {\n",
              "        vertical-align: top;\n",
              "    }\n",
              "\n",
              "    .dataframe thead th {\n",
              "        text-align: right;\n",
              "    }\n",
              "</style>\n",
              "<table border=\"1\" class=\"dataframe\">\n",
              "  <thead>\n",
              "    <tr style=\"text-align: right;\">\n",
              "      <th></th>\n",
              "      <th>Survived</th>\n",
              "      <th>Age</th>\n",
              "      <th>Fare</th>\n",
              "      <th>1</th>\n",
              "      <th>2</th>\n",
              "      <th>3</th>\n",
              "      <th>female</th>\n",
              "      <th>male</th>\n",
              "      <th>FamilySize</th>\n",
              "    </tr>\n",
              "  </thead>\n",
              "  <tbody>\n",
              "    <tr>\n",
              "      <th>0</th>\n",
              "      <td>0</td>\n",
              "      <td>22.0</td>\n",
              "      <td>7.2500</td>\n",
              "      <td>0</td>\n",
              "      <td>0</td>\n",
              "      <td>1</td>\n",
              "      <td>0</td>\n",
              "      <td>1</td>\n",
              "      <td>2</td>\n",
              "    </tr>\n",
              "    <tr>\n",
              "      <th>1</th>\n",
              "      <td>1</td>\n",
              "      <td>38.0</td>\n",
              "      <td>71.2833</td>\n",
              "      <td>1</td>\n",
              "      <td>0</td>\n",
              "      <td>0</td>\n",
              "      <td>1</td>\n",
              "      <td>0</td>\n",
              "      <td>2</td>\n",
              "    </tr>\n",
              "    <tr>\n",
              "      <th>2</th>\n",
              "      <td>1</td>\n",
              "      <td>26.0</td>\n",
              "      <td>7.9250</td>\n",
              "      <td>0</td>\n",
              "      <td>0</td>\n",
              "      <td>1</td>\n",
              "      <td>1</td>\n",
              "      <td>0</td>\n",
              "      <td>1</td>\n",
              "    </tr>\n",
              "    <tr>\n",
              "      <th>3</th>\n",
              "      <td>1</td>\n",
              "      <td>35.0</td>\n",
              "      <td>53.1000</td>\n",
              "      <td>1</td>\n",
              "      <td>0</td>\n",
              "      <td>0</td>\n",
              "      <td>1</td>\n",
              "      <td>0</td>\n",
              "      <td>2</td>\n",
              "    </tr>\n",
              "    <tr>\n",
              "      <th>4</th>\n",
              "      <td>0</td>\n",
              "      <td>35.0</td>\n",
              "      <td>8.0500</td>\n",
              "      <td>0</td>\n",
              "      <td>0</td>\n",
              "      <td>1</td>\n",
              "      <td>0</td>\n",
              "      <td>1</td>\n",
              "      <td>1</td>\n",
              "    </tr>\n",
              "  </tbody>\n",
              "</table>\n",
              "</div>"
            ],
            "text/plain": [
              "   Survived   Age     Fare  1  2  3  female  male  FamilySize\n",
              "0         0  22.0   7.2500  0  0  1       0     1           2\n",
              "1         1  38.0  71.2833  1  0  0       1     0           2\n",
              "2         1  26.0   7.9250  0  0  1       1     0           1\n",
              "3         1  35.0  53.1000  1  0  0       1     0           2\n",
              "4         0  35.0   8.0500  0  0  1       0     1           1"
            ]
          },
          "metadata": {},
          "execution_count": 47
        }
      ]
    },
    {
      "cell_type": "markdown",
      "metadata": {
        "id": "2ZyQoDpCgcCT"
      },
      "source": [
        "The data is now preprocessed and cleaned. The cleaned data can now be used to build your model."
      ]
    },
    {
      "cell_type": "code",
      "metadata": {
        "colab": {
          "base_uri": "https://localhost:8080/"
        },
        "id": "vXtqfBc9FkpF",
        "outputId": "0d370e6c-0111-4396-f36f-55a52a3d394b"
      },
      "source": [
        "# Calculate percentage of men and women who survived\n",
        "women = train_pd.loc[train_pd.female == 1][\"Survived\"]\n",
        "men = train_pd.loc[train_pd.male == 1][\"Survived\"]\n",
        "percentage_women = sum(women)/len(women)\n",
        "percentage_men = sum(men)/len(men)\n",
        "\n",
        "print(\"Percentage of women survived:\", percentage_women)\n",
        "print(\"Percentage of men survived:\", percentage_men)\n"
      ],
      "execution_count": null,
      "outputs": [
        {
          "output_type": "stream",
          "name": "stdout",
          "text": [
            "Percentage of women survived: 0.7420382165605095\n",
            "Percentage of men survived: 0.18890814558058924\n"
          ]
        }
      ]
    },
    {
      "cell_type": "markdown",
      "metadata": {
        "id": "cqdisvFgYAO9"
      },
      "source": [
        "**Train Model - LogisticRegression**\n",
        "1. (i). Build a Logistic Regression model (with default parameters and\n",
        "maximum number of iterations set to 1000) to predict the chances of survival for each individual. Split the data in *train.csv* into\n",
        "training and testing sets in the ratio 80 : 20, with random seed value 78 ."
      ]
    },
    {
      "cell_type": "code",
      "metadata": {
        "colab": {
          "base_uri": "https://localhost:8080/"
        },
        "id": "8lLUhpfFX-4a",
        "outputId": "ba5932e6-ca70-4542-c419-8f9637c37b03"
      },
      "source": [
        "# Split dataset to train and test\n",
        "train_pd, test_pd = train_test_split(train_pd, test_size=0.2, random_state=78)\n",
        "\n",
        "# Get X and y from the combined dataset\n",
        "# Drop target label 'Survived' from the training data\n",
        "X_train = train_pd.drop('Survived', axis = 1)\n",
        "y_train = train_pd['Survived']\n",
        "\n",
        "X_test = test_pd.drop('Survived', axis = 1)\n",
        "y_test = test_pd['Survived']\n",
        "\n",
        "model = LogisticRegression(max_iter=1000)\n",
        "model.fit(X_train, y_train)\n",
        "model.score(X_train, y_train)"
      ],
      "execution_count": null,
      "outputs": [
        {
          "output_type": "execute_result",
          "data": {
            "text/plain": [
              "0.776685393258427"
            ]
          },
          "metadata": {},
          "execution_count": 49
        }
      ]
    },
    {
      "cell_type": "markdown",
      "metadata": {
        "id": "sxDKRpqfuecY"
      },
      "source": [
        "1. (ii). Calculate the testing accuracy value. Plot the ROC graph and calculate the AUC score."
      ]
    },
    {
      "cell_type": "code",
      "metadata": {
        "colab": {
          "base_uri": "https://localhost:8080/",
          "height": 427
        },
        "id": "BKzQgyuVumuZ",
        "outputId": "92869c30-2a1b-465b-a4ca-0a29537e64e0"
      },
      "source": [
        "# calculate predicted value for test data\n",
        "y_pred = model.predict(X_test)\n",
        "\n",
        "# Calculate test acccuracy\n",
        "accuracy = accuracy_score(y_test, y_pred)\n",
        "print(\"Test Accuracy = \", accuracy)\n",
        "# or using model.score()\n",
        "print(\"Test Accuracy = \", model.score(X_test, y_test))\n",
        "\n",
        "# Plot ROC graph and calculate AUC score\n",
        "\n",
        "# predict probabilities\n",
        "pred_prob = model.predict_proba(X_test)\n",
        "\n",
        "# Gets the false positive an true positive rates with threshold\n",
        "# pos_label is set to 1 to indicate the positive class\n",
        "fpr, tpr, thresh = roc_curve(y_test, pred_prob[:,1], pos_label=1)\n",
        "auc_score = roc_auc_score(y_test, pred_prob[:,1])\n",
        "\n",
        "# plot roc curves\n",
        "plt.plot(fpr, tpr, linestyle='--',color='red', label='Logistic Regression')\n",
        "\n",
        "# title\n",
        "plt.title('ROC curve')\n",
        "# x label\n",
        "plt.xlabel('False Positive Rate')\n",
        "# y label\n",
        "plt.ylabel('True Positive rate')\n",
        "\n",
        "plt.legend(loc='best')\n",
        "plt.savefig('ROC',dpi=300)\n",
        "plt.show();\n",
        "\n",
        "print(\"AUC Score = \", auc_score)"
      ],
      "execution_count": null,
      "outputs": [
        {
          "output_type": "stream",
          "name": "stdout",
          "text": [
            "Test Accuracy =  0.8324022346368715\n",
            "Test Accuracy =  0.8324022346368715\n"
          ]
        },
        {
          "output_type": "display_data",
          "data": {
            "image/png": "[encoded data removed]",
            "text/plain": [
              "<Figure size 576x396 with 1 Axes>"
            ]
          },
          "metadata": {}
        },
        {
          "output_type": "stream",
          "name": "stdout",
          "text": [
            "AUC Score =  0.8914203612479475\n"
          ]
        }
      ]
    },
    {
      "cell_type": "markdown",
      "metadata": {
        "id": "XVeukcfr_6ys"
      },
      "source": [
        "**K-Fold Cross Validation**\n",
        "1. (iii). Apply 10-fold cross validation (with random seed value 78) to build a Logistic Regression\n",
        "model (with default parameters and maximum number of iterations set to 1000)."
      ]
    },
    {
      "cell_type": "code",
      "metadata": {
        "colab": {
          "base_uri": "https://localhost:8080/"
        },
        "id": "tgWL-gBHACMZ",
        "outputId": "3bde619f-bf6e-48da-9b90-06d4d82aff04"
      },
      "source": [
        "''' \n",
        "Initialize KFld with 10 folds and seed value 78. \n",
        "Calculate the score for the LogisticRegression model\n",
        "'''\n",
        "kfold = KFold(n_splits=10, random_state=78, shuffle=True)\n",
        "train_results = cross_val_score(model, X_train, y_train, cv=kfold)\n",
        "print(\"Cross Validated Score = \", train_results)\n",
        "\n",
        "print(\"Mean Train Accuracy = \", np.mean(train_results))"
      ],
      "execution_count": null,
      "outputs": [
        {
          "output_type": "stream",
          "name": "stdout",
          "text": [
            "Cross Validated Score =  [0.73611111 0.76388889 0.74647887 0.81690141 0.74647887 0.8028169\n",
            " 0.8028169  0.76056338 0.81690141 0.78873239]\n",
            "Mean Train Accuracy =  0.7781690140845071\n"
          ]
        }
      ]
    },
    {
      "cell_type": "markdown",
      "metadata": {
        "id": "Zq-ktBW-CHQJ"
      },
      "source": [
        "1. (iv). Calculate the mean of test accuracy scores. Compare it with the accuracy value obtained\n",
        "without using Cross Validation."
      ]
    },
    {
      "cell_type": "code",
      "metadata": {
        "colab": {
          "base_uri": "https://localhost:8080/"
        },
        "id": "gIazh5A2CJ0P",
        "outputId": "bed04fb7-d0ac-4faf-8935-171f4861cd8e"
      },
      "source": [
        "# Calculate cross val score to compute the mean accuracy on test set\n",
        "test_results = cross_val_score(model, X_test, y_test, cv=kfold)\n",
        "print(\"Cross Validated Score = \", test_results)\n",
        "mean_test_accuracy = np.mean(test_results)\n",
        "\n",
        "print(\"Mean Test Accuracy = \", mean_test_accuracy)\n",
        "print(\"Initial Test Accuracy = \", accuracy)\n",
        "\n",
        "if(accuracy < mean_test_accuracy):\n",
        "  print(\"Mean cross validation accuracy is greater than initial accuracy!\")\n",
        "else:\n",
        "  print(\"Accuracy without cross validation is better!\")"
      ],
      "execution_count": null,
      "outputs": [
        {
          "output_type": "stream",
          "name": "stdout",
          "text": [
            "Cross Validated Score =  [0.88888889 0.83333333 0.83333333 0.83333333 0.88888889 0.72222222\n",
            " 0.83333333 0.83333333 0.94444444 0.88235294]\n",
            "Mean Test Accuracy =  0.8493464052287582\n",
            "Initial Test Accuracy =  0.8324022346368715\n",
            "Mean cross validation accuracy is greater than initial accuracy!\n"
          ]
        }
      ]
    },
    {
      "cell_type": "markdown",
      "metadata": {
        "id": "h8XhiNyQGpob"
      },
      "source": [
        "**HyperParameter Tuning - Grid Search**\n",
        "1. (v). Perform hyperparameter tuning using grid search technique to find the best set of hyper-\n",
        "parameters for the Logistic Regression Model. The grid of parameters is given in Table 1.Provide the\n",
        "parameters of the best model obtained. Also calculate the test accuracy using the best model.\n",
        "\n",
        "![HyperParam.png](data:image/png;base64,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)"
      ]
    },
    {
      "cell_type": "markdown",
      "metadata": {
        "id": "3ch16gdAQnPP"
      },
      "source": [
        "**Grid Search:**\n",
        "The grid search provided by GridSearchCV in sklearn exhaustively generates candidates from a grid of parameter values specified with the *param_grid* parameter. We can also provide multiple grids and multiple estimators. All the parameter combinations are evaluated and best combination is retained.\n",
        "\n",
        "---\n",
        "\n"
      ]
    },
    {
      "cell_type": "code",
      "metadata": {
        "colab": {
          "base_uri": "https://localhost:8080/"
        },
        "id": "gk9aNoePHz9m",
        "outputId": "45e1092e-4fb9-4a98-b8ca-47f64de41896"
      },
      "source": [
        "# Perform grid search to find the best set of hyperparameters\n",
        "grid = {'penalty':['l2'], 'tol':[0.0001, 0.0002, 0.0003],\n",
        "        'max_iter':[1000, 2000, 3000], 'C':[0.01, 0.1, 1, 10, 100],\n",
        "        'intercept_scaling':[1, 2, 3, 4], 'solver':['liblinear', 'lbfgs']} \n",
        "grid_search = GridSearchCV(estimator=model, param_grid=grid) \n",
        "\n",
        "# fit train data\n",
        "grid_search.fit(X_train, y_train)\n",
        "print(\"Best Score = \", grid_search.best_score_)\n",
        "print(\"Best Parameter = \", grid_search.best_params_)\n",
        "\n",
        "# Accuracy score for test data\n",
        "y_pred_grid = grid_search.predict(X_test)\n",
        "test_accuracy = accuracy_score(y_test, y_pred_grid)\n",
        "print(\"Test Accuracy using grid search = \", test_accuracy)"
      ],
      "execution_count": null,
      "outputs": [
        {
          "output_type": "stream",
          "name": "stdout",
          "text": [
            "Best Score =  0.783689549886733\n",
            "Best Parameter =  {'C': 0.1, 'intercept_scaling': 1, 'max_iter': 1000, 'penalty': 'l2', 'solver': 'liblinear', 'tol': 0.0001}\n",
            "Test Accuracy using grid search =  0.8324022346368715\n"
          ]
        }
      ]
    },
    {
      "cell_type": "markdown",
      "metadata": {
        "id": "xQt5MHeFbvTV"
      },
      "source": [
        "**HyperParameter Tuning - Randomized Search**\n",
        "1. (vi). Perform hyperparameter tuning using randomized search technique to find the best set of\n",
        "hyperparameters for the Logistic Regression Model. The grid of parameters is given in Table 2. Provide\n",
        "the parameters of the best model obtained. Also calculate the test accuracy using the best model.\n",
        "\n",
        "![RandomizedSearch.png](data:image/png;base64,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)\n"
      ]
    },
    {
      "cell_type": "markdown",
      "metadata": {
        "id": "5FoF9GGUcgcl"
      },
      "source": [
        "**Randomized Search:** RandomizedSearchCV implements a randomized search over parameters, where each setting is sampled from a distribution over possible parameter values. For each parameter, either a distribution over possible values or a list of discrete choices (which will be sampled uniformly) can be specified:\n",
        "\n",
        "---\n",
        "\n",
        "\n",
        "\n",
        "\n"
      ]
    },
    {
      "cell_type": "code",
      "metadata": {
        "colab": {
          "base_uri": "https://localhost:8080/"
        },
        "id": "YmAu6Qb3dKHo",
        "outputId": "288ed89f-f311-4644-c44d-6a9cd1e00651"
      },
      "source": [
        "# Perform randomized search to find the best set of hyperparameters\n",
        "# use uniform from scipy.stats\n",
        "random_dist = {'penalty':['l2', 'l1'], 'tol':[0.0001, 0.0002, 0.0003],\n",
        "               'max_iter':[1000, 2000, 3000], 'C':uniform(loc=0, scale=2),\n",
        "               'intercept_scaling':[1, 2, 3, 4], 'solver':['liblinear']} \n",
        "random_search = RandomizedSearchCV(estimator=model, param_distributions=random_dist)\n",
        "\n",
        "# fit train data\n",
        "random_search.fit(X_train, y_train)\n",
        "print(\"Best Score = \", random_search.best_score_)\n",
        "print(\"Best Parameter = \", random_search.best_params_)\n",
        "\n",
        "# Accuracy score for test data\n",
        "# Call predict on the estimator with the best found parameters.\n",
        "y_pred_random = random_search.predict(X_test)\n",
        "test_accuracy_random = accuracy_score(y_test, y_pred_random)\n",
        "print(\"Test Accuracy using randomized search = \", test_accuracy_random)"
      ],
      "execution_count": null,
      "outputs": [
        {
          "output_type": "stream",
          "name": "stdout",
          "text": [
            "Best Score =  0.7780951442923274\n",
            "Best Parameter =  {'C': 0.05416597322106642, 'intercept_scaling': 3, 'max_iter': 3000, 'penalty': 'l1', 'solver': 'liblinear', 'tol': 0.0002}\n",
            "Test Accuracy using randomized search =  0.8491620111731844\n"
          ]
        }
      ]
    },
    {
      "cell_type": "markdown",
      "metadata": {
        "id": "GVILguJhk_n7"
      },
      "source": [
        "**Model Evaluation Metrics:**\n",
        "1. (vii). Compute the following values for the models built in 1.(i), 1.(v) and 1.(vi):\n",
        "      * Precision and Recall\n",
        "      * F1-score\n",
        "      * Macro, micro and weighted averages of precision, recall and F1-score\n",
        " "
      ]
    },
    {
      "cell_type": "code",
      "metadata": {
        "colab": {
          "base_uri": "https://localhost:8080/"
        },
        "id": "SBldWAVpvcNL",
        "outputId": "181875bd-3e42-4dcb-bd08-fd8d17c20f05"
      },
      "source": [
        "'''\n",
        "Models:\n",
        "1. (i) - model\n",
        "1. (v) - grid_search\n",
        "1. (vi) - random_search\n",
        "\n",
        "Usually, precision, recall, F1-score are used to evaluate the generalaization\n",
        "performance of the model.So, we compute these metrics with the predicted values\n",
        "from the test set using each of the models above.\n",
        "Here, we already have the predictions avaliable in:\n",
        "y_pred, y_pred_grid and y_pred_random, and true values in y_true\n",
        "\n",
        "Use - precision_recall_fscore_support from sklearn to calculate all values\n",
        "'''\n",
        "\n",
        "# support is ignored, pos_label=1 return the value for the class 1\n",
        "# Or it will be an array of float in case of multi-class\n",
        "\n",
        "# Logistic Regression without hyperparameter tuning\n",
        "prec_log, recall_log, f1_log, _ =  precision_recall_fscore_support(y_test, y_pred, pos_label=1, average='binary')\n",
        "print(\"\\nLogisticRegression Precision: {}, Recall {}, F1-Score: {}\".format(prec_log, recall_log, f1_log))\n",
        "\n",
        "# Grid Search - use y_pred_grid\n",
        "prec_grid, recall_grid, f1_grid, _ =  precision_recall_fscore_support(y_test, y_pred_grid, pos_label=1, average='binary')\n",
        "print(\"\\nGridSearch Precision: {}, Recall {}, F1-Score: {}\".format(prec_grid, recall_grid, f1_grid))\n",
        "\n",
        "# Randomized Search - use y_pred_random\n",
        "prec_random, recall_random, f1_random, _ =  precision_recall_fscore_support(y_test, y_pred_random, pos_label=1, average='binary')\n",
        "print(\"\\nRandomizedSearch Precision: {}, Recall {}, F1-Score: {}\".format(prec_random, recall_random, f1_random))"
      ],
      "execution_count": null,
      "outputs": [
        {
          "output_type": "stream",
          "name": "stdout",
          "text": [
            "\n",
            "LogisticRegression Precision: 0.7323943661971831, Recall 0.8253968253968254, F1-Score: 0.7761194029850745\n",
            "\n",
            "GridSearch Precision: 0.746268656716418, Recall 0.7936507936507936, F1-Score: 0.7692307692307693\n",
            "\n",
            "RandomizedSearch Precision: 0.78125, Recall 0.7936507936507936, F1-Score: 0.7874015748031497\n"
          ]
        }
      ]
    },
    {
      "cell_type": "markdown",
      "metadata": {
        "id": "f0bjQyNfOUUl"
      },
      "source": [
        "**Macro Average:** Macro average calculates the corresponding metric for each of the binary cases, and then averages the results together."
      ]
    },
    {
      "cell_type": "code",
      "metadata": {
        "colab": {
          "base_uri": "https://localhost:8080/"
        },
        "id": "eX76GwX6OxcZ",
        "outputId": "0430e94e-632f-401b-c202-4d45acec3d8f"
      },
      "source": [
        "# Macro average calculation - use average parameter 'macro'\n",
        "print(\"Macro Average:\")\n",
        "# Logistic Regression without hyperparameter tuning\n",
        "prec_log, recall_log, f1_log, _ =  precision_recall_fscore_support(y_test, y_pred, average='macro')\n",
        "print(\"\\nLogisticRegression Precision: {}, Recall {}, F1-Score: {}\".format(prec_log, recall_log, f1_log))\n",
        "\n",
        "# Grid Search - use y_pred_grid\n",
        "prec_grid, recall_grid, f1_grid, _ =  precision_recall_fscore_support(y_test, y_pred_grid, average='macro')\n",
        "print(\"\\nGridSearch Precision: {}, Recall {}, F1-Score: {}\".format(prec_grid, recall_grid, f1_grid))\n",
        "\n",
        "# Randomized Search - use y_pred_random\n",
        "prec_random, recall_random, f1_random, _ =  precision_recall_fscore_support(y_test, y_pred_random, average='macro')\n",
        "print(\"\\nRandomizedSearch Precision: {}, Recall {}, F1-Score: {}\".format(prec_random, recall_random, f1_random))"
      ],
      "execution_count": null,
      "outputs": [
        {
          "output_type": "stream",
          "name": "stdout",
          "text": [
            "Macro Average:\n",
            "\n",
            "LogisticRegression Precision: 0.8152712571726657, Recall 0.8308018609742747, F1-Score: 0.8210954157782515\n",
            "\n",
            "GridSearch Precision: 0.8150986140724947, Recall 0.8235495347564312, F1-Score: 0.8188259109311742\n",
            "\n",
            "RandomizedSearch Precision: 0.8341032608695652, Recall 0.8364805692391899, F1-Score: 0.8352592289600165\n"
          ]
        }
      ]
    },
    {
      "cell_type": "markdown",
      "metadata": {
        "id": "ut6wwARIP3GK"
      },
      "source": [
        "**Micro Average:** Micro averaging treats the entire set of data as an aggregate result, and calculates 1 metric rather than k metrics that get averaged together.\n",
        "\n"
      ]
    },
    {
      "cell_type": "code",
      "metadata": {
        "colab": {
          "base_uri": "https://localhost:8080/"
        },
        "id": "elbDbUChQIDB",
        "outputId": "3c307b0a-14ef-40a7-c222-5f213036e338"
      },
      "source": [
        "# Micro average calculation - use average parameter 'micro'\n",
        "print(\"Micro Average:\")\n",
        "# Logistic Regression without hyperparameter tuning\n",
        "prec_log, recall_log, f1_log, _ =  precision_recall_fscore_support(y_test, y_pred, average='micro')\n",
        "print(\"\\nLogisticRegression Precision: {}, Recall {}, F1-Score: {}\".format(prec_log, recall_log, f1_log))\n",
        "\n",
        "# Grid Search - use y_pred_grid\n",
        "prec_grid, recall_grid, f1_grid, _ =  precision_recall_fscore_support(y_test, y_pred_grid, average='micro')\n",
        "print(\"\\nGridSearch Precision: {}, Recall {}, F1-Score: {}\".format(prec_grid, recall_grid, f1_grid))\n",
        "\n",
        "# Randomized Search - use y_pred_random\n",
        "prec_random, recall_random, f1_random, _ =  precision_recall_fscore_support(y_test, y_pred_random, average='micro')\n",
        "print(\"\\nRandomizedSearch Precision: {}, Recall {}, F1-Score: {}\".format(prec_random, recall_random, f1_random))"
      ],
      "execution_count": null,
      "outputs": [
        {
          "output_type": "stream",
          "name": "stdout",
          "text": [
            "Micro Average:\n",
            "\n",
            "LogisticRegression Precision: 0.8324022346368715, Recall 0.8324022346368715, F1-Score: 0.8324022346368715\n",
            "\n",
            "GridSearch Precision: 0.8324022346368715, Recall 0.8324022346368715, F1-Score: 0.8324022346368715\n",
            "\n",
            "RandomizedSearch Precision: 0.8491620111731844, Recall 0.8491620111731844, F1-Score: 0.8491620111731844\n"
          ]
        }
      ]
    },
    {
      "cell_type": "markdown",
      "metadata": {
        "id": "VPt3fiRyUMgM"
      },
      "source": [
        "**Weighted Average:** Calculate metrics for each label, and find their average weighted by support (the number of true instances for each label)."
      ]
    },
    {
      "cell_type": "code",
      "metadata": {
        "colab": {
          "base_uri": "https://localhost:8080/"
        },
        "id": "Vk1BLrAjU1gy",
        "outputId": "99a89265-b1f1-4cea-d40a-e7624f166d7c"
      },
      "source": [
        "# Weighted average calculation - use average parameter 'weighted'\n",
        "print(\"Weighted Average:\")\n",
        "prec_log, recall_log, f1_log, _ =  precision_recall_fscore_support(y_test, y_pred, average='weighted')\n",
        "print(\"\\nLogisticRegression Precision: {}, Recall {}, F1-Score: {}\".format(prec_log, recall_log, f1_log))\n",
        "\n",
        "# Grid Search - use y_pred_grid\n",
        "prec_grid, recall_grid, f1_grid, _ =  precision_recall_fscore_support(y_test, y_pred_grid, average='weighted')\n",
        "print(\"\\nGridSearch Precision: {}, Recall {}, F1-Score: {}\".format(prec_grid, recall_grid, f1_grid))\n",
        "\n",
        "# Randomized Search - use y_pred_random\n",
        "prec_random, recall_random, f1_random, _ =  precision_recall_fscore_support(y_test, y_pred_random, average='weighted')\n",
        "print(\"\\nRandomizedSearch Precision: {}, Recall {}, F1-Score: {}\".format(prec_random, recall_random, f1_random))"
      ],
      "execution_count": null,
      "outputs": [
        {
          "output_type": "stream",
          "name": "stdout",
          "text": [
            "Weighted Average:\n",
            "\n",
            "LogisticRegression Precision: 0.8398102248916632, Recall 0.8324022346368715, F1-Score: 0.8344123357672929\n",
            "\n",
            "GridSearch Precision: 0.8354784338483162, Recall 0.8324022346368715, F1-Score: 0.8335105059597856\n",
            "\n",
            "RandomizedSearch Precision: 0.8497525504007774, Recall 0.8491620111731844, F1-Score: 0.8494293723695915\n"
          ]
        }
      ]
    },
    {
      "cell_type": "markdown",
      "metadata": {
        "id": "HkmfVp3mVdwQ"
      },
      "source": [
        "**Models With and Without Hyperparameter Tuning**\n",
        "1. (viii). Comment on the models built with and without hyperparameter tuning based on the metric\n",
        "values.\n",
        "\n",
        "  Hyperparameter tuning is used to find the best combination of parameters that would give us the best model. Here we built 3 models, one without using hyperparameter tuning and other two using Grid Search and Randomized search respectively, for Logistic Regression. So, from the above calculated parameters we can say that when using the model without hyperparameter tuning, we get a train accuracy of around 0.78 and 0.83 test. We get similar result when using the cross validated data. So, The model we are using is a decent model for the given data. Precision, recall and F1-score are also in the range 0.81 - 0.84. When using *randomized search*, we get around a 2% increase in these metrics value which gives us a better classifier. The quality of the model also depends upon the search space and the distribution we are taking."
      ]
    }
  ]
}
